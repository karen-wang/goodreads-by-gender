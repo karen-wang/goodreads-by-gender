{
  "nbformat": 4,
  "nbformat_minor": 0,
  "metadata": {
    "colab": {
      "name": "Goodreads By Gender.ipynb",
      "provenance": [],
      "collapsed_sections": [],
      "authorship_tag": "ABX9TyPZBuG1PKnMNsJf4nFRO6Qv",
      "include_colab_link": true
    },
    "kernelspec": {
      "name": "python3",
      "display_name": "Python 3"
    }
  },
  "cells": [
    {
      "cell_type": "markdown",
      "metadata": {
        "id": "view-in-github",
        "colab_type": "text"
      },
      "source": [
        "<a href=\"https://colab.research.google.com/github/karen-wang/goodreads-by-gender/blob/master/Goodreads_By_Gender.ipynb\" target=\"_parent\"><img src=\"https://colab.research.google.com/assets/colab-badge.svg\" alt=\"Open In Colab\"/></a>"
      ]
    },
    {
      "cell_type": "markdown",
      "metadata": {
        "id": "PV-JRU9Iqr1n"
      },
      "source": [
        "# Goodreads by Gender\n",
        "Do Goodreads users rate books differently based on an author's gender? Let's look at the data to find out."
      ]
    },
    {
      "cell_type": "code",
      "metadata": {
        "id": "DtTqR_TTSUy2"
      },
      "source": [
        "import pandas as pd"
      ],
      "execution_count": null,
      "outputs": []
    },
    {
      "cell_type": "code",
      "metadata": {
        "id": "TC7LLzB_kwTV",
        "colab": {
          "base_uri": "https://localhost:8080/",
          "height": 35
        },
        "outputId": "4983df1a-e1c8-4b80-d515-811d187fe30a"
      },
      "source": [
        "from google.colab import drive\n",
        "drive.mount('/content/drive')"
      ],
      "execution_count": null,
      "outputs": [
        {
          "output_type": "stream",
          "text": [
            "Drive already mounted at /content/drive; to attempt to forcibly remount, call drive.mount(\"/content/drive\", force_remount=True).\n"
          ],
          "name": "stdout"
        }
      ]
    },
    {
      "cell_type": "code",
      "metadata": {
        "id": "8uskkYKDlSRI"
      },
      "source": [
        "names_df = pd.read_csv('/content/drive/My Drive/goodreads/yob1994.txt', header=None)"
      ],
      "execution_count": null,
      "outputs": []
    },
    {
      "cell_type": "code",
      "metadata": {
        "id": "Rfw7RViXloOP"
      },
      "source": [
        "# Make name to gender map\n",
        "name_to_gender = {}\n",
        "for index, row in names_df.iterrows():\n",
        "  name = row[0].lower()\n",
        "  gender = row[1].lower()\n",
        "  assert gender == 'f' or gender == 'm'\n",
        "  if name in name_to_gender:\n",
        "    if name_to_gender[name] == gender or name_to_gender[name] == 'neutral':\n",
        "      continue\n",
        "    else:\n",
        "      # we found a new gender neutral name\n",
        "      name_to_gender[name] = 'neutral'\n",
        "  else:\n",
        "    name_to_gender[name] = gender"
      ],
      "execution_count": null,
      "outputs": []
    },
    {
      "cell_type": "code",
      "metadata": {
        "id": "XPe7iJB_lJh_"
      },
      "source": [
        "df = pd.read_csv('/content/drive/My Drive/goodreads/books.csv')"
      ],
      "execution_count": null,
      "outputs": []
    },
    {
      "cell_type": "code",
      "metadata": {
        "id": "g2pLI4FRnFfL"
      },
      "source": [
        "# First, we don't assume consistent ratings for authors. This means we don't separate by unique author names.\n",
        "# Make lists of ratings by gender\n",
        "female_ratings = []\n",
        "male_ratings = []\n",
        "neutral_ratings = []  # name can be either male or female\n",
        "unknown_ratings = []\n",
        "for index, row in df.iterrows():\n",
        "  authors = row['authors'].split('/')\n",
        "  rating = float(row['average_rating'])\n",
        "  for author in authors:\n",
        "    first_name = author.split()[0].lower()\n",
        "    if first_name not in name_to_gender:\n",
        "      unknown_ratings.append(rating)\n",
        "    elif name_to_gender[first_name] == 'f':\n",
        "      female_ratings.append(rating)\n",
        "    elif name_to_gender[first_name] == 'm':\n",
        "      male_ratings.append(rating)\n",
        "    elif name_to_gender[first_name] == 'neutral':\n",
        "      neutral_ratings.append(rating)"
      ],
      "execution_count": null,
      "outputs": []
    },
    {
      "cell_type": "code",
      "metadata": {
        "id": "YjOJnBKupzY2",
        "colab": {
          "base_uri": "https://localhost:8080/",
          "height": 87
        },
        "outputId": "10e50f27-378a-4000-994c-ac7863ce3800"
      },
      "source": [
        "print(len(female_ratings))\n",
        "print(len(male_ratings))\n",
        "print(len(neutral_ratings))\n",
        "print(len(unknown_ratings))"
      ],
      "execution_count": null,
      "outputs": [
        {
          "output_type": "stream",
          "text": [
            "2579\n",
            "3603\n",
            "10141\n",
            "2914\n"
          ],
          "name": "stdout"
        }
      ]
    },
    {
      "cell_type": "code",
      "metadata": {
        "id": "gj2eI3frr0lJ",
        "colab": {
          "base_uri": "https://localhost:8080/",
          "height": 281
        },
        "outputId": "cbf70332-fec3-4f64-c81e-3632ff1fe3fd"
      },
      "source": [
        "import matplotlib.pyplot as plt\n",
        "data = [female_ratings, male_ratings, neutral_ratings, unknown_ratings]\n",
        "fig, ax = plt.subplots()\n",
        "ax.set_title('Plot of Average Goodreads Ratings by Author Gender')\n",
        "bp = ax.boxplot(\n",
        "    data, \n",
        "    showfliers=True, \n",
        "    labels=['female', 'male', 'neutral', 'unknown'])\n",
        "\n",
        "plt.show()"
      ],
      "execution_count": null,
      "outputs": [
        {
          "output_type": "display_data",
          "data": {
            "image/png": "[encoded data removed]",
            "text/plain": [
              "<Figure size 432x288 with 1 Axes>"
            ]
          },
          "metadata": {
            "tags": [],
            "needs_background": "light"
          }
        }
      ]
    },
    {
      "cell_type": "code",
      "metadata": {
        "id": "83v9yzy2AzXc",
        "colab": {
          "base_uri": "https://localhost:8080/",
          "height": 202
        },
        "outputId": "100d6917-0fff-428d-9c2b-fa861dc5719b"
      },
      "source": [
        "names_df.head()"
      ],
      "execution_count": null,
      "outputs": [
        {
          "output_type": "execute_result",
          "data": {
            "text/html": [
              "<div>\n",
              "<style scoped>\n",
              "    .dataframe tbody tr th:only-of-type {\n",
              "        vertical-align: middle;\n",
              "    }\n",
              "\n",
              "    .dataframe tbody tr th {\n",
              "        vertical-align: top;\n",
              "    }\n",
              "\n",
              "    .dataframe thead th {\n",
              "        text-align: right;\n",
              "    }\n",
              "</style>\n",
              "<table border=\"1\" class=\"dataframe\">\n",
              "  <thead>\n",
              "    <tr style=\"text-align: right;\">\n",
              "      <th></th>\n",
              "      <th>0</th>\n",
              "      <th>1</th>\n",
              "      <th>2</th>\n",
              "    </tr>\n",
              "  </thead>\n",
              "  <tbody>\n",
              "    <tr>\n",
              "      <th>0</th>\n",
              "      <td>Jessica</td>\n",
              "      <td>F</td>\n",
              "      <td>32117</td>\n",
              "    </tr>\n",
              "    <tr>\n",
              "      <th>1</th>\n",
              "      <td>Ashley</td>\n",
              "      <td>F</td>\n",
              "      <td>30278</td>\n",
              "    </tr>\n",
              "    <tr>\n",
              "      <th>2</th>\n",
              "      <td>Emily</td>\n",
              "      <td>F</td>\n",
              "      <td>24149</td>\n",
              "    </tr>\n",
              "    <tr>\n",
              "      <th>3</th>\n",
              "      <td>Samantha</td>\n",
              "      <td>F</td>\n",
              "      <td>22820</td>\n",
              "    </tr>\n",
              "    <tr>\n",
              "      <th>4</th>\n",
              "      <td>Sarah</td>\n",
              "      <td>F</td>\n",
              "      <td>22291</td>\n",
              "    </tr>\n",
              "  </tbody>\n",
              "</table>\n",
              "</div>"
            ],
            "text/plain": [
              "          0  1      2\n",
              "0   Jessica  F  32117\n",
              "1    Ashley  F  30278\n",
              "2     Emily  F  24149\n",
              "3  Samantha  F  22820\n",
              "4     Sarah  F  22291"
            ]
          },
          "metadata": {
            "tags": []
          },
          "execution_count": 121
        }
      ]
    },
    {
      "cell_type": "code",
      "metadata": {
        "id": "hVMleZubAgdS"
      },
      "source": [
        "# Have another go at the gender map, this time with an attempt to reduce gender-neutral names.\n",
        "# Heuristic: if a name can be either male or female but one of them has a percentage less than or equal to 0.1%, don't count it\n",
        "# Ex. If 10,000 people were named David but only 10 of them were female, then David is a male name\n",
        "# Also, remove books with ratings of 0\n",
        "\n",
        "# Make name to gender map\n",
        "female_names = {}\n",
        "male_names = {}\n",
        "for index, row in names_df.iterrows():\n",
        "  name = row[0].lower()\n",
        "  gender = row[1].lower()\n",
        "  count = int(row[2])\n",
        "  assert gender == 'f' or gender == 'm'\n",
        "  if gender == 'f':\n",
        "    if name not in female_names:\n",
        "      female_names[name] = count\n",
        "    else:\n",
        "      female_names[name] += count\n",
        "  else:  # male\n",
        "    if name not in male_names:\n",
        "      male_names[name] = count\n",
        "    else:\n",
        "      male_names[name] += count"
      ],
      "execution_count": null,
      "outputs": []
    },
    {
      "cell_type": "code",
      "metadata": {
        "id": "f5qCAJtKDlRh"
      },
      "source": [
        "# Determine gender neutrality of names\n",
        "name_to_gender = {}\n",
        "for name, female_count in female_names.items():\n",
        "  if name in male_names:  # might be gender-neutral\n",
        "    male_count = male_names[name]\n",
        "    total_count = female_count + male_count\n",
        "    if (total_count == 0):\n",
        "      continue\n",
        "    if (float(female_count)/total_count >= 0.95):\n",
        "      name_to_gender[name] = 'f'\n",
        "    elif (float(male_count)/total_count >= 0.95):\n",
        "      name_to_gender[name] = 'm'\n",
        "    else:\n",
        "      name_to_gender[name] = 'neutral'\n",
        "  else:  # definitively female\n",
        "    name_to_gender[name] = 'f'\n",
        "\n",
        "# get remaining definitive male names\n",
        "for name, female_count in male_names.items():\n",
        "  if name in name_to_gender:\n",
        "    continue\n",
        "  name_to_gender[name] = 'm'"
      ],
      "execution_count": null,
      "outputs": []
    },
    {
      "cell_type": "code",
      "metadata": {
        "id": "z07UsAYCE7r9"
      },
      "source": [
        "# Make lists of ratings by gender\n",
        "female_ratings = []\n",
        "male_ratings = []\n",
        "neutral_ratings = []  # name can be either male or female\n",
        "unknown_ratings = []\n",
        "for index, row in df.iterrows():\n",
        "  authors = row['authors'].split('/')\n",
        "  rating = float(row['average_rating'])\n",
        "  if (rating == 0):\n",
        "    continue\n",
        "  for author in authors:\n",
        "    first_name = author.split()[0].lower()\n",
        "    if first_name not in name_to_gender:\n",
        "      unknown_ratings.append(rating)\n",
        "    elif name_to_gender[first_name] == 'f':\n",
        "      female_ratings.append(rating)\n",
        "    elif name_to_gender[first_name] == 'm':\n",
        "      male_ratings.append(rating)\n",
        "    elif name_to_gender[first_name] == 'neutral':\n",
        "      neutral_ratings.append(rating)"
      ],
      "execution_count": null,
      "outputs": []
    },
    {
      "cell_type": "code",
      "metadata": {
        "id": "dTlzPc26FoGL",
        "colab": {
          "base_uri": "https://localhost:8080/",
          "height": 87
        },
        "outputId": "fcbc7f34-594d-448d-ccd0-567f057b61a7"
      },
      "source": [
        "print(len(female_ratings))\n",
        "print(len(male_ratings))\n",
        "print(len(neutral_ratings))\n",
        "print(len(unknown_ratings))"
      ],
      "execution_count": null,
      "outputs": [
        {
          "output_type": "stream",
          "text": [
            "4533\n",
            "10707\n",
            "1046\n",
            "2903\n"
          ],
          "name": "stdout"
        }
      ]
    },
    {
      "cell_type": "code",
      "metadata": {
        "id": "nfmXpwDKG1kz",
        "colab": {
          "base_uri": "https://localhost:8080/",
          "height": 281
        },
        "outputId": "a5cce222-1cd4-4ad5-c7fd-71681e41c7db"
      },
      "source": [
        "data = [female_ratings, male_ratings, neutral_ratings + unknown_ratings]\n",
        "fig, ax = plt.subplots()\n",
        "ax.set_title('Plot of Ratings by Author Gender')\n",
        "bp = ax.boxplot(\n",
        "    data, \n",
        "    showfliers=False, \n",
        "    sym='+',\n",
        "    labels=['female', 'male', 'neutral'])\n",
        "\n",
        "plt.show()"
      ],
      "execution_count": null,
      "outputs": [
        {
          "output_type": "display_data",
          "data": {
            "image/png": "[encoded data removed]",
            "text/plain": [
              "<Figure size 432x288 with 1 Axes>"
            ]
          },
          "metadata": {
            "tags": [],
            "needs_background": "light"
          }
        }
      ]
    },
    {
      "cell_type": "code",
      "metadata": {
        "id": "R0nx6dAxoDKZ",
        "colab": {
          "base_uri": "https://localhost:8080/",
          "height": 69
        },
        "outputId": "fc8a9402-7ae5-436c-e56f-0885001b7477"
      },
      "source": [
        "import numpy as np\n",
        "print(np.median(female_ratings))\n",
        "print(np.median(male_ratings))\n",
        "print(np.median(neutral_ratings + unknown_ratings))"
      ],
      "execution_count": null,
      "outputs": [
        {
          "output_type": "stream",
          "text": [
            "3.92\n",
            "3.97\n",
            "4.0\n"
          ],
          "name": "stdout"
        }
      ]
    },
    {
      "cell_type": "code",
      "metadata": {
        "id": "_PKbEhqovIJk",
        "colab": {
          "base_uri": "https://localhost:8080/",
          "height": 281
        },
        "outputId": "af676742-fcf4-4ab4-ec5f-2293dbc3d95f"
      },
      "source": [
        "fig, ax = plt.subplots()\n",
        "ax.set_title('Distribution of Ratings, Female')\n",
        "hist = ax.hist([female_ratings], bins=50)\n",
        "plt.show()"
      ],
      "execution_count": null,
      "outputs": [
        {
          "output_type": "display_data",
          "data": {
            "image/png": "[encoded data removed]",
            "text/plain": [
              "<Figure size 432x288 with 1 Axes>"
            ]
          },
          "metadata": {
            "tags": [],
            "needs_background": "light"
          }
        }
      ]
    },
    {
      "cell_type": "code",
      "metadata": {
        "id": "Y7vDSMlEvg8Z",
        "colab": {
          "base_uri": "https://localhost:8080/",
          "height": 281
        },
        "outputId": "f680cbb2-247d-485d-cb96-3d914810ac9d"
      },
      "source": [
        "fig, ax = plt.subplots()\n",
        "ax.set_title('Distribution of Ratings, Male')\n",
        "hist = ax.hist([male_ratings], bins=50)\n",
        "plt.show()"
      ],
      "execution_count": null,
      "outputs": [
        {
          "output_type": "display_data",
          "data": {
            "image/png": "[encoded data removed]",
            "text/plain": [
              "<Figure size 432x288 with 1 Axes>"
            ]
          },
          "metadata": {
            "tags": [],
            "needs_background": "light"
          }
        }
      ]
    },
    {
      "cell_type": "code",
      "metadata": {
        "id": "srcwTz_kvi-y",
        "colab": {
          "base_uri": "https://localhost:8080/",
          "height": 281
        },
        "outputId": "20e7ecd5-3a55-4900-ed08-691e9c07d589"
      },
      "source": [
        "fig, ax = plt.subplots()\n",
        "ax.set_title('Distribution of Ratings, Neutral')\n",
        "hist = ax.hist([neutral_ratings], bins=50)\n",
        "plt.show()"
      ],
      "execution_count": null,
      "outputs": [
        {
          "output_type": "display_data",
          "data": {
            "image/png": "[encoded data removed]",
            "text/plain": [
              "<Figure size 432x288 with 1 Axes>"
            ]
          },
          "metadata": {
            "tags": [],
            "needs_background": "light"
          }
        }
      ]
    }
  ]
}